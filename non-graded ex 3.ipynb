{
 "cells": [
  {
   "cell_type": "markdown",
   "metadata": {},
   "source": [
    "Create a treasure hunt game where a user has to figure out the location of the treasure on a grid by using just the commands of E, W, N, and S, indicating East, West, North, and South, respectively. \n",
    "\n",
    "REQUIREMENTS:\n",
    "1. Define the size of the grid. It could be any number, but start from 5\n",
    "2. Assign the player a random position on the map. Do the same for the location of the treasure. (HINT: use randint() to generate a random set of coordinates)\n",
    "    2.1. Since it's 2-dimensional grid, the location of both the player and the treasure will be coordinates, like (x,y)\n",
    "3. Decide the maximum moves the player can make and keep track of the number of moves.\n",
    "4. Calculate the initial distance between the player and the treasure location\n",
    "5. Allow player to make as many moves as maximum moves allowed\n",
    "    5.1. Depending on which direction the player moves (N, S, E, or W), recalculate player's position and their distance from the treasure location\n",
    "    5.2. If the move brings player closer to the treasure, let the user know that they are getting closer\n",
    "    5.3. If the move takes player away from the treasure, let the user know that they are moving farther\n",
    "    5.4. If the player makes an illegal move, then let the user know that that move is not allowed. \n",
    "    5.5. If the new player position is the same as the treasure position, let the user know that they have found the treasure\n",
    "    5.6. If the moves made by the player are the same as maximum moves allowed, let the user know that no more moves are possible and that they have lost the game. Also show them where the treasure was located.\n",
    "    5.7. If there are still moves left, then the game should continue and keep asking the user for their moves. \n"
   ]
  },
  {
   "cell_type": "code",
   "execution_count": 1,
   "metadata": {},
   "outputs": [
    {
     "name": "stdout",
     "output_type": "stream",
     "text": [
      "Player's starting position: [2, 1]\n",
      "You are getting closer to the treasure.\n",
      "No change in distance.\n",
      "You are getting closer to the treasure.\n",
      "No change in distance.\n",
      "You are moving farther from the treasure.\n"
     ]
    }
   ],
   "source": [
    "import random\n",
    "\n",
    "\n",
    "\n",
    "\n",
    "\n",
    "\n",
    "\n",
    "# Define the size of the grid\n",
    "grid_size = 5\n",
    "\n",
    "# Assign player a random position on the map\n",
    "player_position = [random.randint(0, grid_size - 1), random.randint(0, grid_size - 1)]\n",
    "print(\"Player's starting position:\", player_position)\n",
    "\n",
    "# Generate random coordinates for the treasure\n",
    "treasure_position = [random.randint(0, grid_size - 1), random.randint(0, grid_size - 1)]\n",
    "\n",
    "# Calculate initial distance between player and treasure\n",
    "initial_distance = abs(player_position[0] - treasure_position[0]) + abs(player_position[1] - treasure_position[1])\n",
    "\n",
    "# Maximum moves allowed\n",
    "max_moves = 10\n",
    "moves_made = 0\n",
    "\n",
    "# Game loop\n",
    "while moves_made < max_moves:\n",
    "    move = input(\"Enter your move (N, S, E, W): \").upper()\n",
    "\n",
    "    if move not in ['N', 'S', 'E', 'W']:\n",
    "        print(\"Illegal move. Try again.\")\n",
    "        continue\n",
    "\n",
    "    # Update player's position based on the move\n",
    "    if move == 'N':\n",
    "        player_position[1] += 1\n",
    "    elif move == 'S':\n",
    "        player_position[1] -= 1\n",
    "    elif move == 'E':\n",
    "        player_position[0] += 1\n",
    "    elif move == 'W':\n",
    "        player_position[0] -= 1\n",
    "    \n",
    "    moves_made += 1\n",
    "    new_distance = abs(player_position[0] - treasure_position[0]) + abs(player_position[1] - treasure_position[1])\n",
    "\n",
    "    if player_position == treasure_position:\n",
    "        print(\"Congratulations! You found the treasure at\", treasure_position)\n",
    "        break\n",
    "    elif new_distance < initial_distance:\n",
    "        print(\"You are getting closer to the treasure.\")\n",
    "    elif new_distance > initial_distance:\n",
    "        print(\"You are moving farther from the treasure.\")\n",
    "    else:\n",
    "        print(\"No change in distance.\")\n",
    "\n",
    "if moves_made == max_moves:\n",
    "    print(\"No more moves left. You have lost the game. The treasure was located at\", treasure_position)\n"
   ]
  }
 ],
 "metadata": {
  "kernelspec": {
   "display_name": "Python 3",
   "language": "python",
   "name": "python3"
  },
  "language_info": {
   "codemirror_mode": {
    "name": "ipython",
    "version": 3
   },
   "file_extension": ".py",
   "mimetype": "text/x-python",
   "name": "python",
   "nbconvert_exporter": "python",
   "pygments_lexer": "ipython3",
   "version": "3.10.11"
  }
 },
 "nbformat": 4,
 "nbformat_minor": 2
}
